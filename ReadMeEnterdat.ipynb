{
 "cells": [
  {
   "cell_type": "code",
   "execution_count": null,
   "id": "7e91dcf8",
   "metadata": {
    "vscode": {
     "languageId": "plaintext"
    }
   },
   "outputs": [],
   "source": [
    "# This is supposed to be to test how I can read and add information into the database. \n",
    "\n",
    "1 step Input \n",
    "- [x] where is the input coming from ? csv file \n",
    "- [x] is the csv file then being added to the database and stored permanantly \n",
    "- [x] where is the database being stored - in the folder of Flashcards \n",
    "\n",
    "2nd step update in the app \n",
    "- [x] can I add a button to update ?\n",
    "- [x] which will then update the database again ?\n",
    "- will this button lead to a new page ?\n",
    "\n",
    "3rd step Themes \n",
    "- adding themes vocabulary, science, finance etc. \n",
    "\n",
    "4rd step statistics\n",
    "- add statistics or probabilities to select from the databese\n",
    "- add button for correct answers and for non correct as well as ajusted ones (bays theoreme)"
   ]
  },
  {
   "cell_type": "code",
   "execution_count": null,
   "id": "ee1deb0b",
   "metadata": {
    "vscode": {
     "languageId": "plaintext"
    }
   },
   "outputs": [],
   "source": []
  },
  {
   "cell_type": "markdown",
   "id": "64ae5156",
   "metadata": {},
   "source": [
    "# This is Markdown and text for the notebook\n"
   ]
  },
  {
   "cell_type": "markdown",
   "id": "593a40e5",
   "metadata": {},
   "source": []
  }
 ],
 "metadata": {
  "language_info": {
   "name": "python"
  }
 },
 "nbformat": 4,
 "nbformat_minor": 5
}
