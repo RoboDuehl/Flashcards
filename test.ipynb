{
 "cells": [
  {
   "cell_type": "code",
   "execution_count": null,
   "id": "7e91dcf8",
   "metadata": {
    "vscode": {
     "languageId": "plaintext"
    }
   },
   "outputs": [],
   "source": [
    "this is code"
   ]
  },
  {
   "cell_type": "code",
   "execution_count": null,
   "id": "ee1deb0b",
   "metadata": {
    "vscode": {
     "languageId": "plaintext"
    }
   },
   "outputs": [],
   "source": []
  },
  {
   "cell_type": "markdown",
   "id": "64ae5156",
   "metadata": {},
   "source": [
    "# This is Markdown and text for the notebook\n"
   ]
  },
  {
   "cell_type": "markdown",
   "id": "593a40e5",
   "metadata": {},
   "source": []
  }
 ],
 "metadata": {
  "language_info": {
   "name": "python"
  }
 },
 "nbformat": 4,
 "nbformat_minor": 5
}
